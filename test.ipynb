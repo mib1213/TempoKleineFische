{
 "cells": [
  {
   "cell_type": "code",
   "execution_count": 1,
   "metadata": {},
   "outputs": [
    {
     "data": {
      "text/plain": [
       "'hello world'"
      ]
     },
     "execution_count": 1,
     "metadata": {},
     "output_type": "execute_result"
    }
   ],
   "source": [
    "\"hello world\""
   ]
  },
  {
   "cell_type": "code",
   "execution_count": 2,
   "metadata": {},
   "outputs": [
    {
     "name": "stdout",
     "output_type": "stream",
     "text": [
      "10\n"
     ]
    }
   ],
   "source": [
    "dice = 1\n",
    "win_steps = 10\n",
    "fish_steps = [10, 10, 9, 3]\n",
    "crossed_the_sea_list = [1, 1, 0, 0]\n",
    "number_of_fishes_crossed_the_sea = 2\n",
    "\n",
    "maxed = max(fish_steps[:dice] + fish_steps[dice + 1:])\n",
    "print(maxed)"
   ]
  },
  {
   "cell_type": "code",
   "execution_count": 5,
   "metadata": {},
   "outputs": [
    {
     "name": "stdout",
     "output_type": "stream",
     "text": [
      "9\n",
      "1\n"
     ]
    },
    {
     "data": {
      "text/plain": [
       "([10, 10, 9, 3], [1, 1, 0, 0])"
      ]
     },
     "execution_count": 5,
     "metadata": {},
     "output_type": "execute_result"
    }
   ],
   "source": [
    "dice = 0\n",
    "win_steps = 10\n",
    "fish_steps = [10, 9, 9, 3]\n",
    "crossed_the_sea_list = [1, 0, 0, 0]\n",
    "number_of_fishes_crossed_the_sea = 2\n",
    "\n",
    "maxed = max(fish_steps[:dice] + fish_steps[dice + 1:])\n",
    "print(maxed)\n",
    "fish_to_move = fish_steps.index(maxed)\n",
    "print(fish_to_move)\n",
    "fish_steps[fish_to_move] += 1\n",
    "if fish_steps[fish_to_move] == win_steps:\n",
    "    crossed_the_sea_list[fish_to_move] = 1\n",
    "    number_of_fishes_crossed_the_sea += 1\n",
    "\n",
    "fish_steps, crossed_the_sea_list"
   ]
  },
  {
   "cell_type": "code",
   "execution_count": null,
   "metadata": {},
   "outputs": [],
   "source": []
  }
 ],
 "metadata": {
  "kernelspec": {
   "display_name": "env",
   "language": "python",
   "name": "python3"
  },
  "language_info": {
   "codemirror_mode": {
    "name": "ipython",
    "version": 3
   },
   "file_extension": ".py",
   "mimetype": "text/x-python",
   "name": "python",
   "nbconvert_exporter": "python",
   "pygments_lexer": "ipython3",
   "version": "3.11.10"
  }
 },
 "nbformat": 4,
 "nbformat_minor": 2
}
